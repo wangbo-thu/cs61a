{
 "nbformat": 4,
 "nbformat_minor": 2,
 "metadata": {
  "language_info": {
   "name": "python",
   "codemirror_mode": {
    "name": "ipython",
    "version": 3
   },
   "version": "3.7.4-final"
  },
  "orig_nbformat": 2,
  "file_extension": ".py",
  "mimetype": "text/x-python",
  "name": "python",
  "npconvert_exporter": "python",
  "pygments_lexer": "ipython3",
  "version": 3,
  "kernelspec": {
   "name": "python37464bitbaseconda19ec9c99dc7b4ede92326fe454634d24",
   "display_name": "Python 3.7.4 64-bit ('base': conda)"
  }
 },
 "cells": [
  {
   "cell_type": "markdown",
   "execution_count": null,
   "metadata": {},
   "outputs": [],
   "source": [
    "# Week01 - Additional Resources\n"
   ]
  },
  {
   "cell_type": "markdown",
   "execution_count": null,
   "metadata": {},
   "outputs": [],
   "source": [
    "## [(Summer 2015) Albert's Control Structure Problems](http://albertwu.org/cs61a/review/control/exam.html)"
   ]
  },
  {
   "cell_type": "markdown",
   "execution_count": null,
   "metadata": {},
   "outputs": [],
   "source": [
    "### Question 1"
   ]
  },
  {
   "cell_type": "code",
   "execution_count": 7,
   "metadata": {},
   "outputs": [],
   "source": [
    "def is_even(x):\n",
    "    if x % 2 == 0:\n",
    "        print('even')\n",
    "    else:\n",
    "        print('odd')\n",
    "    return x - 1\n",
    "def branch(x):\n",
    "    if x > 5:\n",
    "        print('one')\n",
    "    elif x > 0:\n",
    "        print('two')\n",
    "    if x > 10:\n",
    "        print('three')\n",
    "    else:\n",
    "        print('four')\n",
    "    return x + 5"
   ]
  },
  {
   "cell_type": "code",
   "execution_count": 9,
   "metadata": {},
   "outputs": [
    {
     "name": "stdout",
     "output_type": "stream",
     "text": "even\none\nthree\ntwo\nfour\nodd\neven\n"
    }
   ],
   "source": [
    "a = is_even(4)\n",
    "b = branch(20)\n",
    "c = branch(3)\n",
    "d = is_even(is_even(5))\n",
    "e = branch(branch(3))"
   ]
  },
  {
   "cell_type": "code",
   "execution_count": null,
   "metadata": {},
   "outputs": [],
   "source": [
    "def is_ascending(n):\n",
    "    \"\"\"Returns True if the digits of N are in ascending order.\n",
    "\n",
    "    >>> is_ascending(321)\n",
    "    True\n",
    "    >>> is_ascending(123)\n",
    "    False\n",
    "    >>> is_ascending(4432221)\n",
    "    True\n",
    "    >>> is_ascending(5492)\n",
    "    False\n",
    "    >>> is_ascending(5420)\n",
    "    True\n",
    "    \"\"\"\n",
    "    "
   ]
  }
 ]
}